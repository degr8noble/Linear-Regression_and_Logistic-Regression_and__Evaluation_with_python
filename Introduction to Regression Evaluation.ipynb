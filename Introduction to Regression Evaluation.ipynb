{
 "cells": [
  {
   "cell_type": "markdown",
   "metadata": {},
   "source": [
    "# Introduction to Regression Evaluation\n",
    "\n",
    "-----"
   ]
  },
  {
   "cell_type": "markdown",
   "metadata": {},
   "source": [
    "After building a regression model, there are various ways to evaluate the model. In the regression models introduced in previous lessons, we've used Mean Absolute Error (MAE), Mean Squared Error (MSE) and R-squared ($R^2$) to measure the performance of the model.\n",
    "\n",
    "In this notebook, we will explain these evaluation metrics in detail and how they are calculated. We will also introduce a new metric Root Mean Squared Error (RMSE) which is simply the square root of MSE.\n",
    "\n",
    "The scikit-learn module provides functions to return these metrics for regression models defined in the module. We will construct scikit-learn regression models on auto mpg data and demonstrate how to get these metrics.\n",
    "\n",
    "We will also demonstrate how to evaluate the regression model with residual vs. observed plot.\n",
    "\n",
    "-----\n"
   ]
  },
  {
   "cell_type": "markdown",
   "metadata": {},
   "source": [
    "## Table of Contents\n",
    "\n",
    "[Evaluation Metrics for Regression](#Evaluation-Metrics-for-Regression)\n",
    "- [Mean Absolute Error (MAE)](#Mean-Absolute-Error-(MAE))\n",
    "- [Mean Squared Error (MSE)](#Mean-Squared-Error-(MSE))\n",
    "- [Root Mean Squared Error (RMSE)](#Root-Mean-Squared-Error-(RMSE))\n",
    "- [R-squared ($R^2$)](#R-squared-($R^2$))\n",
    "\n",
    "[Which Metric to Use](#Which-Metric-to-Use)\n",
    "\n",
    "[Metrics Calculation](#Metrics-Calculation)\n",
    "\n",
    "[Residual vs. Observed Plot](#Residual-vs.-Observed-Plot)\n",
    "\n",
    "-----"
   ]
  },
  {
   "cell_type": "markdown",
   "metadata": {},
   "source": [
    "-----\n",
    "[[Back to TOC]](#Table-of-Contents)\n",
    "\n",
    "## Evaluation Metrics for Regression\n",
    "\n",
    "To explain the Evaluation Metrics for Regression, we will use a simple linear regression as example. A simple linear regression is a regression that has one dependent variable y and one independent variable x. The regression line will be a straight line, which is the representation of $y = \\alpha + \\beta x$, as shown in below image.\n",
    "\n",
    "<img src=\"images/linear_regression.png\" width=\"600\">\n",
    "\n",
    "\n",
    "In the plot:\n",
    "- The green line is the simple regression line;\n",
    "- For each independent variable $x_i$, the predicted value $\\hat{y_i}$ is the $y$ value on the regression line corresponding to $x_i$; \n",
    "- The blue dots are observed values which are represented by $y_i$; \n",
    "- The difference between the observed value and the predicted value for $x_i$, $|y_i - \\hat{y_i}|$, is the residual, or $\\epsilon_i$.\n",
    "\n",
    "We can calculate the residual for every point in our data set, and each of these residuals will be of use in assessment. These residuals will play a significant role in judging the usefulness of a model. If our collection of residuals is small, it implies that the model that produced them does a good job at predicting our output of interest. Conversely, if these residuals are generally large, it implies that model is a poor estimator.\n",
    "\n",
    "There are many summary measurements that take the collection of residuals and condense them into a single value that represents the predictive ability of our model. In this notebook, we will cover:\n",
    "\n",
    "- Mean Absolute Error(MAE)\n",
    "- Mean Squared Error(MSE)\n",
    "- Root Mean Squared Error(RMSE)\n",
    "\n",
    "-----\n",
    "\n",
    "[id]: http://scikit-learn.org/stable/auto_examples/datasets/plot_iris_dataset.html"
   ]
  },
  {
   "cell_type": "markdown",
   "metadata": {},
   "source": [
    "### Mean Absolute Error (MAE)\n",
    "\n",
    "The Mean Absolute Error (MAE) is the simplest regression error metric to understand. We’ll calculate the residual for every data point, taking only the absolute value of each so that negative and positive residuals do not cancel out. We then take the average of all these residuals. Effectively, MAE describes the typical magnitude of the residuals.\n",
    "\n",
    "The formal equation is shown below:\n",
    "$$\n",
    "MAE = \\frac{1}{n} \\sum |y - \\hat{y}|\n",
    "$$\n",
    "or\n",
    "$$\n",
    "MAE = \\frac{1}{n} \\sum |\\epsilon|\n",
    "$$\n",
    "\n",
    "The MAE is the most intuitive of the metrics since we’re just looking at the absolute difference between the observed data and the model’s predictions. Each residual contributes proportionally to the total amount of error, meaning that larger errors will contribute linearly to the overall error. MAE can range from 0 to $\\infty$. A small MAE suggests the model is good at prediction. \n",
    "\n",
    "While the MAE is easily interpretable, using the absolute value of the residual is often not ideal when large residuals are particularly undesirable. This brings up the next metric, Mean Squared Error or MSE."
   ]
  },
  {
   "cell_type": "markdown",
   "metadata": {},
   "source": [
    "### Mean Squared Error (MSE)\n",
    "\n",
    "The mean squared error (MSE) is similar to MAE but squares the residuals before summing them all instead of using the absolute value.\n",
    "\n",
    "The formal equation is shown below:\n",
    "\n",
    "$$\n",
    "MSE = \\frac{1}{n} \\sum (y - \\hat{y})^2\n",
    "$$\n",
    "or\n",
    "$$\n",
    "MSE = \\frac{1}{n} \\sum \\epsilon^2\n",
    "$$\n",
    "\n",
    "Each residual in the Mean Absolute Error has same weight and contributes proportionally to the total error. But\n",
    "the square term in the Mean Squared Error equation essentially gives larger residuals more weight. In another words, the large differences between actual and predicted values are punished more in Mean Squared Error than in Mean Absolute Error. \n",
    "\n",
    "Since the Mean Squared Error is squared, its units do not match that of the original data; this makes it difficult to interpret the mean squared error. To solve this problem, we can take the square root of the metric, which brings up the next metric, Root Mean Squared Error (RMSE)."
   ]
  },
  {
   "cell_type": "markdown",
   "metadata": {},
   "source": [
    "### Root Mean Squared Error (RMSE)\n",
    "\n",
    "Root Mean Squared Error(RMSE) is simply the square root of Mean Squared Error(MSE).\n",
    "\n",
    "The equation is shown below:\n",
    "$$\n",
    "RMSE = \\sqrt{MSE}\n",
    "$$\n",
    "or\n",
    "$$\n",
    "RMSE = \\sqrt{\\frac{1}{n} \\sum (y - \\hat{y})^2}\n",
    "$$\n",
    "\n",
    "\n",
    "RMSE is arguably the most popular metric to measure the error rate of a regression model. It has advantages of both MAE and MSE:\n",
    "- The square term gives higher weight and punishes large errors.\n",
    "- The square root term makes the metrics to have the same unit as original output, making interpretation easier.\n",
    "\n",
    "Mean absolute error, mean squared error and root mean squared error all have range from 0 to $\\infty$. The smaller error means better model. But these errors alone are not intuitive on judging a model. For example, how can you judge a model if you know the model's root mean squared error is 10? We would like to have a benchmark or a base model to compare when judging a regression model. This brings up R-squared($R^2$)."
   ]
  },
  {
   "cell_type": "markdown",
   "metadata": {},
   "source": [
    "### R-squared ($R^2$)\n",
    "\n",
    "R-squared ($R^2$) is also called Coefficient of Determination. It compares the MSE of your model with a base model. The base model serves as a benchmark, which simply take the mean of all observed values as the prediction. So the MSE of the base model will be:\n",
    "$$\n",
    "MSE_{base} = \\frac{1}{n} \\sum (y_i - \\bar{y})^2\n",
    "$$\n",
    "Where $\\bar{y}$ is the mean of observed outputs.\n",
    "\n",
    "We can compare our model's MSE with base model's MSE by $\\frac{MSE_{model}}{MSE_{base}}$. Normally, we expect our model  to predict the output better than the simple mean, so $MSE_{model}$($MSE$ introduced above) is expected to be smaller than $MSE_{base}$, so the value of $\\frac{MSE_{model}}{MSE_{base}}$ is normally between 0 and 1. 0 means our model predicts perfectly because our model's MSE is 0; 1 means our model's MSE is same as base model's MSE, so our model doesn't predict better than the simple mean. When the value is greater than 1, it means the prediction of our model is even worse than the simple mean.\n",
    "\n",
    "Since we used to using bigger numbers to represent better results, we define R-squared as:\n",
    "\n",
    "$$\n",
    "R^2 = 1- \\frac{MSE_{model}}{MSE_{base}}\n",
    "$$\n",
    "\n",
    "Now $R^2 = 0$ means the prediction of our model is not better than the simple mean, while $R^2 = 1$ means our model predicts perfectly. A negative $R^2$ means the prediction of the model is even worse than the simple mean. So normally, the range of $R^2$ is 0 to 1."
   ]
  },
  {
   "cell_type": "markdown",
   "metadata": {},
   "source": [
    "-----\n",
    "[[Back to TOC]](#Table-of-Contents)\n",
    "## Which Metric to Use\n",
    "\n",
    "$R^2$ value is very intuitive. But research shows that $R^2$ is only valid for linear regression. Most of the regression models we have introduced so far, like Decision Tree or KNN, are non-linear models. For those non-linear models, we can't completely trust $R^2$. It's preferred to always use $R^2$ together with other metrics like MAE and RMSE. When you want to downplay outliers, you may use MAE; when you want to give more attention to outliers, use RMSE."
   ]
  },
  {
   "cell_type": "markdown",
   "metadata": {},
   "source": [
    "-----\n",
    "[[Back to TOC]](#Table-of-Contents)\n",
    "## Metrics Calculation\n",
    "\n",
    "All the metrics introduced above are easy to calculate. We simply apply the trained regression model on testing data to get the predictions, which is $\\hat{y}$. Observed outputs $y$ is the output of testing data. With predicted and observed values available, we can use the equation introduced above to get those metrics. Scikit-learn module, however, provides functions to get various regression metrics for the models defined in the module. \n",
    "\n",
    "In the following Code cells, we will demonstrate regression metrics with the automobile fuel performance prediction data.\n",
    "\n",
    "In the first Code cell, we load and prepare the data. We display 5 sample rows of training data to show that data is loaded successfully.\n",
    "\n",
    "In the second Code cell, we construct a decision tree regressor and display the regression metrics.\n",
    "\n",
    "In the third Code cell, we construct a random forest regressor on same dataset and display the regression metrics.\n",
    "\n",
    "---\n"
   ]
  },
  {
   "cell_type": "code",
   "execution_count": 1,
   "metadata": {},
   "outputs": [
    {
     "data": {
      "text/html": [
       "<div>\n",
       "<style scoped>\n",
       "    .dataframe tbody tr th:only-of-type {\n",
       "        vertical-align: middle;\n",
       "    }\n",
       "\n",
       "    .dataframe tbody tr th {\n",
       "        vertical-align: top;\n",
       "    }\n",
       "\n",
       "    .dataframe thead th {\n",
       "        text-align: right;\n",
       "    }\n",
       "</style>\n",
       "<table border=\"1\" class=\"dataframe\">\n",
       "  <thead>\n",
       "    <tr style=\"text-align: right;\">\n",
       "      <th></th>\n",
       "      <th>cylinders</th>\n",
       "      <th>displacement</th>\n",
       "      <th>weight</th>\n",
       "      <th>acceleration</th>\n",
       "      <th>model_year</th>\n",
       "      <th>origin_code</th>\n",
       "    </tr>\n",
       "  </thead>\n",
       "  <tbody>\n",
       "    <tr>\n",
       "      <th>242</th>\n",
       "      <td>4</td>\n",
       "      <td>121.0</td>\n",
       "      <td>2600</td>\n",
       "      <td>12.8</td>\n",
       "      <td>77</td>\n",
       "      <td>0</td>\n",
       "    </tr>\n",
       "    <tr>\n",
       "      <th>354</th>\n",
       "      <td>4</td>\n",
       "      <td>100.0</td>\n",
       "      <td>2320</td>\n",
       "      <td>15.8</td>\n",
       "      <td>81</td>\n",
       "      <td>0</td>\n",
       "    </tr>\n",
       "    <tr>\n",
       "      <th>340</th>\n",
       "      <td>4</td>\n",
       "      <td>156.0</td>\n",
       "      <td>2620</td>\n",
       "      <td>14.4</td>\n",
       "      <td>81</td>\n",
       "      <td>2</td>\n",
       "    </tr>\n",
       "    <tr>\n",
       "      <th>166</th>\n",
       "      <td>8</td>\n",
       "      <td>302.0</td>\n",
       "      <td>3169</td>\n",
       "      <td>12.0</td>\n",
       "      <td>75</td>\n",
       "      <td>2</td>\n",
       "    </tr>\n",
       "    <tr>\n",
       "      <th>269</th>\n",
       "      <td>4</td>\n",
       "      <td>105.0</td>\n",
       "      <td>2230</td>\n",
       "      <td>14.5</td>\n",
       "      <td>78</td>\n",
       "      <td>2</td>\n",
       "    </tr>\n",
       "  </tbody>\n",
       "</table>\n",
       "</div>"
      ],
      "text/plain": [
       "     cylinders  displacement  weight  acceleration  model_year  origin_code\n",
       "242          4         121.0    2600          12.8          77            0\n",
       "354          4         100.0    2320          15.8          81            0\n",
       "340          4         156.0    2620          14.4          81            2\n",
       "166          8         302.0    3169          12.0          75            2\n",
       "269          4         105.0    2230          14.5          78            2"
      ]
     },
     "execution_count": 1,
     "metadata": {},
     "output_type": "execute_result"
    }
   ],
   "source": [
    "import pandas as pd\n",
    "import seaborn as sns\n",
    "from sklearn.preprocessing import LabelEncoder\n",
    "from sklearn.model_selection import train_test_split\n",
    "\n",
    "auto_data = pd.read_csv('mpg.csv')\n",
    "auto_data['origin_code'] = LabelEncoder().fit_transform(auto_data.origin)\n",
    "\n",
    "# pick dependent and independent variables\n",
    "y = auto_data['mpg']\n",
    "x = auto_data[['cylinders', 'displacement', 'weight', 'acceleration', 'model_year', 'origin_code']]\n",
    "\n",
    "# Split data intro training:testing data set\n",
    "ind_train, ind_test, dep_train, dep_test = train_test_split(x, y, test_size=0.4, random_state=23)\n",
    "ind_train.sample(5)"
   ]
  },
  {
   "cell_type": "code",
   "execution_count": 2,
   "metadata": {},
   "outputs": [
    {
     "name": "stdout",
     "output_type": "stream",
     "text": [
      "Decision Tree Regression Metrics:\n",
      "R^2 Score                  = 0.814\n",
      "Mean Absolute Error        = 2.37\n",
      "Mean Squared Error         = 10.04\n",
      "Root Mean Squared Error    = 3.17\n"
     ]
    }
   ],
   "source": [
    "from sklearn.tree import DecisionTreeRegressor\n",
    "from sklearn import metrics\n",
    "import math\n",
    "\n",
    "# Create Regressor with default properties\n",
    "dtr = DecisionTreeRegressor(random_state=23)\n",
    "\n",
    "# Fit estimator\n",
    "dtr = dtr.fit(ind_train, dep_train)\n",
    "\n",
    "# Regress on test data\n",
    "pred = dtr.predict(ind_test)\n",
    "\n",
    "# Copute performance metrics\n",
    "mae = metrics.mean_absolute_error(dep_test, pred)\n",
    "mse = metrics.mean_squared_error(dep_test, pred)\n",
    "rmse = math.sqrt(mse)\n",
    "r2 = metrics.r2_score(dep_test, pred)\n",
    "\n",
    "# Display metrics\n",
    "print('Decision Tree Regression Metrics:')\n",
    "print(f'R^2 Score                  = {r2:5.3f}')\n",
    "print(f'Mean Absolute Error        = {mae:4.2f}')\n",
    "print(f'Mean Squared Error         = {mse:4.2f}')\n",
    "print(f'Root Mean Squared Error    = {rmse:4.2f}')"
   ]
  },
  {
   "cell_type": "code",
   "execution_count": 3,
   "metadata": {
    "scrolled": true
   },
   "outputs": [
    {
     "name": "stdout",
     "output_type": "stream",
     "text": [
      "Random Forest Regression Metrics:\n",
      "R^2 Score                  = 0.846\n",
      "Mean Absolute Error        = 2.15\n",
      "Mean Squared Error         = 8.28\n",
      "Root Mean Squared Error    = 2.88\n"
     ]
    }
   ],
   "source": [
    "from sklearn.ensemble import RandomForestRegressor\n",
    "\n",
    "# Create Regressor with default properties\n",
    "rfr = RandomForestRegressor(n_estimators=10, random_state=23)\n",
    "\n",
    "# Fit estimator\n",
    "rfr = rfr.fit(ind_train, dep_train)\n",
    "\n",
    "# Regress on test data\n",
    "pred = rfr.predict(ind_test)\n",
    "\n",
    "# Copute performance metrics\n",
    "mae = metrics.mean_absolute_error(dep_test, pred)\n",
    "mse = metrics.mean_squared_error(dep_test, pred)\n",
    "rmse = math.sqrt(mse)\n",
    "r2 = metrics.r2_score(dep_test, pred)\n",
    "\n",
    "# Display metrics\n",
    "print('Random Forest Regression Metrics:')\n",
    "print(f'R^2 Score                  = {r2:5.3f}')\n",
    "print(f'Mean Absolute Error        = {mae:4.2f}')\n",
    "print(f'Mean Squared Error         = {mse:4.2f}')\n",
    "print(f'Root Mean Squared Error    = {rmse:4.2f}')"
   ]
  },
  {
   "cell_type": "markdown",
   "metadata": {},
   "source": [
    "---\n",
    "Random Forest Regressor gets better result on all metrics than that of the Decision Tree Regressor. It gets larger $R^2$ and smaller MAE, MSE and RMSE. Based on the metrics, we can say that Random Forest Regressor is a better model for this dataset.\n"
   ]
  },
  {
   "cell_type": "markdown",
   "metadata": {},
   "source": [
    "-----\n",
    "\n",
    "<font color='red' size = '5'> Student Exercise </font>\n",
    "\n",
    "We compared the regression metrics of Random Forest Regressor with Decision Tree Regressor above. Now try making changes on the same regressor and compare the metrics:\n",
    "\n",
    "1. Pick different independent variables.\n",
    "2. Set different hyperparameters of the model you choose to use.\n",
    "\n",
    "-----"
   ]
  },
  {
   "cell_type": "markdown",
   "metadata": {},
   "source": [
    "[[Back to TOC]](#Table-of-Contents)\n",
    "## Residual vs. Observed Plot\n",
    "\n",
    "A residual vs. observed plot is a graph that shows the residuals on the vertical axis and the dependent variable on the horizontal axis. The plot shows the residual or errors of the prediction on different value of observed. Ideally, the plot should be symmetrically distributed around 0, and tending to cluster towards the 0 line; there shouldn't be any clear patterns.\n",
    "\n",
    "In the following Code cells, we will first define a function which plots residual vs. observed. Then we'll plot residual vs. observed for both the decision tree and the random forest regression models created above.\n"
   ]
  },
  {
   "cell_type": "code",
   "execution_count": 4,
   "metadata": {},
   "outputs": [],
   "source": [
    "%matplotlib inline\n",
    "import numpy as np\n",
    "import seaborn as sns\n",
    "from matplotlib import cm\n",
    "import matplotlib.pyplot as plt\n",
    "\n",
    "def plot_residual_vs_observed(predicted, observed, dep_name, model_name):\n",
    "    '''\n",
    "    Plot residual vs observed.\n",
    "    \n",
    "    predicted: numpy array, predicted values\n",
    "    observed: numpy array, observed values\n",
    "    dep_name: string, dependent variable name\n",
    "    model_name: string, type of the regression model\n",
    "    '''\n",
    "    \n",
    "    #get residule\n",
    "    residual = predicted - observed\n",
    "\n",
    "    #calculate y-axis range based on residual\n",
    "    upper = np.max(residual)\n",
    "    lower = np.min(residual)\n",
    "    y_range = max(abs(upper), abs(lower))*1.5\n",
    "    \n",
    "    #calcuate x-axis range based on observed\n",
    "    x_low = np.min(observed) * 0.8\n",
    "    x_high = np.max(observed) * 1.2\n",
    "\n",
    "    # Set up plot area\n",
    "    sns.set(style=\"white\")\n",
    "    fig, ax = plt.subplots(figsize=(10, 4))\n",
    "\n",
    "    \n",
    "    # Plot model residuals\n",
    "    ax.scatter(observed, residual, alpha = .5)\n",
    "\n",
    "    # Show zero residual line\n",
    "    ax.hlines(0, x_low, x_high, color='r', linestyle='--', alpha=0.25)\n",
    "\n",
    "    # Decorate final plot\n",
    "    ax.set_xlabel(dep_name, fontsize=14)\n",
    "    ax.set_ylabel(\"Residual\", fontsize=14)\n",
    "    ax.set_title(f\"Residual vs. Observed: {model_name}\", fontsize=18)\n",
    "    ax.set_ylim(-y_range, y_range)\n",
    "    sns.despine(ax=ax, trim=True)"
   ]
  },
  {
   "cell_type": "markdown",
   "metadata": {},
   "source": [
    "#### Residual vs. Observed: Decision Tree Regressor"
   ]
  },
  {
   "cell_type": "code",
   "execution_count": 5,
   "metadata": {
    "scrolled": true
   },
   "outputs": [
    {
     "data": {
      "image/png": "[encoded data removed]",
      "text/plain": [
       "<Figure size 720x288 with 1 Axes>"
      ]
     },
     "metadata": {},
     "output_type": "display_data"
    }
   ],
   "source": [
    "#get predicted from dtr\n",
    "predicted = dtr.predict(ind_test)\n",
    "plot_residual_vs_observed(predicted, dep_test, 'MPG', 'Decision Tree')"
   ]
  },
  {
   "cell_type": "markdown",
   "metadata": {},
   "source": [
    "#### Residual vs. Observed: Random Forest Regressor"
   ]
  },
  {
   "cell_type": "code",
   "execution_count": 6,
   "metadata": {
    "scrolled": true
   },
   "outputs": [
    {
     "data": {
      "image/png": "[encoded data removed]",
      "text/plain": [
       "<Figure size 720x288 with 1 Axes>"
      ]
     },
     "metadata": {},
     "output_type": "display_data"
    }
   ],
   "source": [
    "#get predicted from dtr\n",
    "predicted = rfr.predict(ind_test)\n",
    "plot_residual_vs_observed(predicted, dep_test, 'MPG', 'Random Forest')"
   ]
  },
  {
   "cell_type": "markdown",
   "metadata": {},
   "source": [
    "From the Residual vs. Observed plot, we can see that the residuals of the random forest regressor are clustered around 0 line more closely than that of decision tree regressor. This means our random forest regressor predicts mpg with generally small residual or error. On the other hand, both models tend to over predict when observed mpg is low(<15) and under predict when mpg is high(>35). We can try improving our model or choose better models based on this information."
   ]
  },
  {
   "cell_type": "markdown",
   "metadata": {},
   "source": [
    "-----\n",
    "\n",
    "## Ancillary Information\n",
    "\n",
    "The following links are to additional documentation that you might find helpful in learning this material. Reading these web-accessible documents is completely optional.\n",
    "\n",
    "1. Understanding [regression error metrics](https://www.dataquest.io/blog/understanding-regression-error-metrics/)\n",
    "\n",
    "-----\n"
   ]
  },
  {
   "cell_type": "markdown",
   "metadata": {
    "deletable": false,
    "editable": false
   },
   "source": [
    "**&copy; 2019: Gies College of Business at the University of Illinois.**\n",
    "\n",
    "This notebook is released under the [Creative Commons license CC BY-NC-SA 4.0][ll]. Any reproduction, adaptation, distribution, dissemination or making available of this notebook for commercial use is not allowed unless authorized in writing by the copyright holder.\n",
    "\n",
    "[ll]: https://creativecommons.org/licenses/by-nc-sa/4.0/legalcode"
   ]
  }
 ],
 "metadata": {
  "kernelspec": {
   "display_name": "Python 3",
   "language": "python",
   "name": "python3"
  },
  "language_info": {
   "codemirror_mode": {
    "name": "ipython",
    "version": 3
   },
   "file_extension": ".py",
   "mimetype": "text/x-python",
   "name": "python",
   "nbconvert_exporter": "python",
   "pygments_lexer": "ipython3",
   "version": "3.7.3"
  }
 },
 "nbformat": 4,
 "nbformat_minor": 4
}
